{
 "cells": [
  {
   "cell_type": "code",
   "execution_count": 1,
   "metadata": {},
   "outputs": [],
   "source": [
    "# Import Libraries\n",
    "from pathlib import Path\n",
    "import csv"
   ]
  },
  {
   "cell_type": "code",
   "execution_count": 2,
   "metadata": {},
   "outputs": [],
   "source": [
    "# Set File paths for resources\n",
    "menu_path = \"menu_data.csv\"\n",
    "sales_path = \"sales_data.csv\""
   ]
  },
  {
   "cell_type": "code",
   "execution_count": 3,
   "metadata": {},
   "outputs": [],
   "source": [
    "menu = []\n",
    "sales = []\n",
    "report = {}"
   ]
  },
  {
   "cell_type": "code",
   "execution_count": 4,
   "metadata": {},
   "outputs": [],
   "source": [
    "# Read in `menu_data.csv`\n",
    "\n",
    "with open(menu_path, 'r') as menu_data:\n",
    "    csvreader = csv.reader(menu_data, delimiter=',')\n",
    "    csv_header = next (csvreader)\n",
    "    \n",
    "# Loop over the rest of the rows and append every row to the 'menu' list object\n",
    "    for data in csv.reader(menu_data):\n",
    "        menu.append (data)"
   ]
  },
  {
   "cell_type": "code",
   "execution_count": 5,
   "metadata": {},
   "outputs": [],
   "source": [
    "# Read in `sales_data.csv` \n",
    "\n",
    "with open (sales_path, 'r') as sales_data:\n",
    "    csvreader = csv.reader(sales_data, delimiter=',')\n",
    "    csv_header = next (csvreader)\n",
    "    \n",
    "# Loop over the rest of the rows and append every row to the 'sales' list object\n",
    "    for row in csv.reader(sales_data):\n",
    "        sales.append (row)"
   ]
  },
  {
   "cell_type": "code",
   "execution_count": 6,
   "metadata": {},
   "outputs": [],
   "source": [
    "# Intialize metric data\n",
    "row_count = 0\n",
    "count = 0\n",
    "revenue = 0\n",
    "cogs = 0 \n",
    "profit = 0"
   ]
  },
  {
   "cell_type": "code",
   "execution_count": 9,
   "metadata": {},
   "outputs": [
    {
     "name": "stdout",
     "output_type": "stream",
     "text": [
      "{'spicy miso ramen': {'count': 27715, 'revenue': 332568.0, 'cogs': 138570.0, 'profit': 64666.0}, 'tori paitan ramen': {'count': 27471, 'revenue': 357084.0, 'cogs': 164808.0, 'profit': 64092.0}, 'truffle butter ramen': {'count': 26947, 'revenue': 377244.0, 'cogs': 188622.0, 'profit': 62874.0}, 'tonkotsu ramen': {'count': 27865, 'revenue': 362232.0, 'cogs': 167184.0, 'profit': 65016.0}, 'vegetarian spicy miso': {'count': 27649, 'revenue': 331776.0, 'cogs': 138240.0, 'profit': 64512.0}, 'shio ramen': {'count': 27541, 'revenue': 302940.0, 'cogs': 137700.0, 'profit': 55080.0}, 'miso crab ramen': {'count': 26674, 'revenue': 320040.0, 'cogs': 160020.0, 'profit': 53340.0}, 'nagomi shoyu': {'count': 27397, 'revenue': 301356.0, 'cogs': 136980.0, 'profit': 54792.0}, 'soft-shell miso crab ramen': {'count': 27391, 'revenue': 383460.0, 'cogs': 191730.0, 'profit': 63910.0}, 'burnt garlic tonkotsu ramen': {'count': 27211, 'revenue': 380940.0, 'cogs': 163260.0, 'profit': 72560.0}, 'vegetarian curry + king trumpet mushroom ramen': {'count': 26473, 'revenue': 344136.0, 'cogs': 185304.0, 'profit': 52944.0}}\n"
     ]
    }
   ],
   "source": [
    "# Then, loop through every row in the `sales` list object.\n",
    "\n",
    "for sale in sales:    \n",
    "    count=int(sale[3])\n",
    "    sales_item=sale[4]\n",
    "    if sales_item not in report.keys():\n",
    "        report[sales_item] = {\n",
    "            \"count\":count,\n",
    "            \"revenue\":revenue,\n",
    "            \"cogs\":cogs,\n",
    "            \"profit\": profit,\n",
    "        }\n",
    "# Create a nested loop by looping through every record in `menu`.    \n",
    "    for x in menu:\n",
    "        item = x[0]\n",
    "        price = x[3]\n",
    "        cost = x[4]\n",
    "        if sales_item == item:\n",
    "            report[sales_item][\"count\"] += count\n",
    "            report[sales_item][\"revenue\"] += float (price) * count \n",
    "            report[sales_item][\"cogs\"] += float(cost) * count\n",
    "            report[sales_item][\"profit\"] += (float (price)- float (cost)) * count\n",
    "#       else:\n",
    "#         print(f\"{sales_item} does not equal {item}! No match!\") \n",
    "    row_count += 1                           \n",
    "print(report)"
   ]
  },
  {
   "cell_type": "code",
   "execution_count": 10,
   "metadata": {},
   "outputs": [],
   "source": [
    "output = Path(\"output.txt\")\n"
   ]
  },
  {
   "cell_type": "code",
   "execution_count": 29,
   "metadata": {},
   "outputs": [],
   "source": [
    "import json\n",
    "\n",
    "with open ('output.txt', 'w') as file:\n",
    "    file.write (json.dumps(report))"
   ]
  },
  {
   "cell_type": "code",
   "execution_count": 30,
   "metadata": {},
   "outputs": [],
   "source": [
    "#attempt at splitting dictionary into separate lines-\n",
    "\n",
    "# dict_as_str = str(report)\n",
    "\n",
    "# with open ('output.txt', 'w') as file:\n",
    "#    file.write(str(item))\n",
    "#    file.close()"
   ]
  },
  {
   "cell_type": "code",
   "execution_count": null,
   "metadata": {},
   "outputs": [],
   "source": []
  }
 ],
 "metadata": {
  "kernelspec": {
   "display_name": "Python 3",
   "language": "python",
   "name": "python3"
  },
  "language_info": {
   "codemirror_mode": {
    "name": "ipython",
    "version": 3
   },
   "file_extension": ".py",
   "mimetype": "text/x-python",
   "name": "python",
   "nbconvert_exporter": "python",
   "pygments_lexer": "ipython3",
   "version": "3.8.5"
  }
 },
 "nbformat": 4,
 "nbformat_minor": 4
}
