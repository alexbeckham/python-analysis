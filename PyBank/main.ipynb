{
 "cells": [
  {
   "cell_type": "code",
   "execution_count": 1,
   "metadata": {},
   "outputs": [],
   "source": [
    "import csv"
   ]
  },
  {
   "cell_type": "code",
   "execution_count": 6,
   "metadata": {},
   "outputs": [
    {
     "name": "stdout",
     "output_type": "stream",
     "text": [
      "budget_data.csv\n"
     ]
    }
   ],
   "source": [
    "#Set the path \n",
    "csvpath = \"budget_data.csv\"\n",
    "print (csvpath)"
   ]
  },
  {
   "cell_type": "code",
   "execution_count": 4,
   "metadata": {},
   "outputs": [],
   "source": [
    "#Read csv file \n",
    "with open(csvpath) as csvfile:\n",
    "    csvreader = csv.reader(csvfile)\n",
    "\n",
    "    #Skip header row\n",
    "    header = next(csvreader)\n",
    "    \n",
    "    #convert into list of dictionaries\n",
    "    date = []\n",
    "    revenue = [] \n",
    "    rev_change = []\n",
    "    \n",
    "    for row in csvreader:\n",
    "        revenue.append(float(row[1]))\n",
    "        date.append(row[0])"
   ]
  },
  {
   "cell_type": "code",
   "execution_count": 5,
   "metadata": {},
   "outputs": [
    {
     "name": "stdout",
     "output_type": "stream",
     "text": [
      "Financial Analysis\n",
      "-----------------------------------\n",
      "Total Months: 86\n",
      "Total: $ 38382578.0\n",
      "Average Change: $ -2315\n",
      "Greatest Increase in Profits: Jan-2012 ($ 1926159.0 )\n",
      "Greatest Decrease in Profits: Aug-2013 ($ -2196167.0 )\n"
     ]
    }
   ],
   "source": [
    "for i in range(1,len(revenue)):\n",
    "    rev_change.append(revenue[i] - revenue[i-1])   \n",
    "    avg_rev_change = sum(rev_change)/len(rev_change)\n",
    "\n",
    "    max_rev_change = max(rev_change)\n",
    "    min_rev_change = min(rev_change)\n",
    "\n",
    "    max_rev_change_date = str(date[rev_change.index(max(rev_change))])\n",
    "    min_rev_change_date = str(date[rev_change.index(min(rev_change))])\n",
    "    \n",
    "print(\"Financial Analysis\")\n",
    "print(\"-----------------------------------\")\n",
    "print(\"Total Months:\", len(date))\n",
    "print(\"Total: $\", sum(revenue))\n",
    "print(\"Average Change: $\", round(avg_rev_change))\n",
    "print(\"Greatest Increase in Profits:\", max_rev_change_date,\"($\", max_rev_change,\")\")\n",
    "print(\"Greatest Decrease in Profits:\", min_rev_change_date,\"($\", min_rev_change,\")\")"
   ]
  },
  {
   "cell_type": "code",
   "execution_count": null,
   "metadata": {},
   "outputs": [],
   "source": []
  }
 ],
 "metadata": {
  "kernelspec": {
   "display_name": "Python 3",
   "language": "python",
   "name": "python3"
  },
  "language_info": {
   "codemirror_mode": {
    "name": "ipython",
    "version": 3
   },
   "file_extension": ".py",
   "mimetype": "text/x-python",
   "name": "python",
   "nbconvert_exporter": "python",
   "pygments_lexer": "ipython3",
   "version": "3.8.5"
  }
 },
 "nbformat": 4,
 "nbformat_minor": 4
}
